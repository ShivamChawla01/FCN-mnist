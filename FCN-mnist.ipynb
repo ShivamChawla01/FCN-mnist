{
 "cells": [
  {
   "cell_type": "code",
   "execution_count": 4,
   "metadata": {},
   "outputs": [],
   "source": [
    "%matplotlib inline\n",
    "\n",
    "import numpy as np\n",
    "import matplotlib.pyplot as plt\n",
    "import pandas as pd\n",
    "import tensorflow as tf\n",
    "from sklearn.utils import shuffle"
   ]
  },
  {
   "cell_type": "code",
   "execution_count": 2,
   "metadata": {},
   "outputs": [],
   "source": [
    "X = np.load('bottleneck.npy')\n",
    "y = np.load('segmented.npy')"
   ]
  },
  {
   "cell_type": "code",
   "execution_count": 3,
   "metadata": {},
   "outputs": [
    {
     "name": "stdout",
     "output_type": "stream",
     "text": [
      "(2000, 14, 19, 8) (2000, 64, 84, 10)\n"
     ]
    }
   ],
   "source": [
    "print(X.shape, y.shape)"
   ]
  },
  {
   "cell_type": "code",
   "execution_count": 6,
   "metadata": {},
   "outputs": [],
   "source": [
    "#Shuffle\n",
    "X,y = shuffle(X,y)\n",
    "\n",
    "X = X.astype(np.float32)\n",
    "y = y.astype(np.float32)"
   ]
  },
  {
   "cell_type": "code",
   "execution_count": 7,
   "metadata": {},
   "outputs": [],
   "source": [
    "# Normalize\n",
    "X -= 127.0\n",
    "X /= 127.0"
   ]
  },
  {
   "cell_type": "code",
   "execution_count": null,
   "metadata": {},
   "outputs": [],
   "source": [
    "rand_index = np.random.randint(0,len(y))\n",
    "c,s = X[rand_index], y[rand_index]\n",
    "\n",
    "## X data is bottleneck features, not image.\n",
    "# plt.imshow(c, cmap='gray')\n",
    "# plt.show()\n",
    "\n",
    "for i in range(10):\n",
    "    plt.imshow(s[:,:,i],cmap='gray')\n",
    "    plt.show()"
   ]
  },
  {
   "cell_type": "code",
   "execution_count": 10,
   "metadata": {},
   "outputs": [],
   "source": [
    "# Split it into train and validation\n",
    "n_train = int(0.7 * len(y))\n",
    "\n",
    "y_train, X_train, y_test, X_test = y[: n_train], X[: n_train, :], y[n_train:], X[n_train:, :]\n"
   ]
  },
  {
   "cell_type": "code",
   "execution_count": 11,
   "metadata": {},
   "outputs": [],
   "source": [
    "def get_next_batch(batch_size, X, y):\n",
    "    for start in range(0,len(y),batch_size):\n",
    "        end = min(len(y), start+batch_size)\n",
    "        yield X[start:end] , y[start:end]"
   ]
  },
  {
   "cell_type": "code",
   "execution_count": 12,
   "metadata": {},
   "outputs": [],
   "source": [
    "num_classes = 10"
   ]
  },
  {
   "cell_type": "code",
   "execution_count": 55,
   "metadata": {},
   "outputs": [],
   "source": [
    "def nn():\n",
    "    bottleneck_placeholder = tf.placeholder(dtype=tf.float32, shape=(None, X.shape[1],X.shape[2],1), name='input_bottleneck')\n",
    "    labels = tf.placeholder(dtype=tf.int32, shape=(None, y.shape[1], y.shape[2], y.shape[3]), name='segmentation_labels')\n",
    "    learning_rate_ph = tf.placeholder(dtype=tf.float32, name='learning_rate')\n",
    "    \n",
    "    \n",
    "    _conv1x1 = lambda tensor :\\\n",
    "     tf.layers.conv2d(tensor, \n",
    "                    num_classes, \n",
    "                    1, \n",
    "                    1, \n",
    "                    padding='same',\n",
    "                    kernel_regularizer=tf.contrib.layers.l2_regularizer(1e-3))\n",
    "        \n",
    "    _upsample = lambda tensor, kernel_sz, stride :\\\n",
    "     tf.layers.conv2d_transpose(tensor, \n",
    "                                num_classes, \n",
    "                                kernel_sz, \n",
    "                                stride, \n",
    "                                padding='valid',\n",
    "                                kernel_regularizer=tf.contrib.layers.l2_regularizer(1e-3))\n",
    "    \n",
    "    l1 = _upsample(_conv1x1(bottleneck_placeholder),4,2)\n",
    "    l2 = _upsample(_conv1x1(l1),6,2)\n",
    "    prediction = tf.identity(tf.nn.softmax(l2), name='prediction')\n",
    "    logits = tf.reshape(l2,[-1,num_classes], name=logits)\n",
    "    labels_flat = tf.reshape(labels,[-1,num_classes])\n",
    "    \n",
    "    cost = tf.reduce_mean(tf.nn.softmax_cross_entropy_with_logits)\n",
    "    \n",
    "    return l1, l2"
   ]
  },
  {
   "cell_type": "code",
   "execution_count": 56,
   "metadata": {},
   "outputs": [],
   "source": [
    "l1,l2 = nn()"
   ]
  },
  {
   "cell_type": "code",
   "execution_count": 57,
   "metadata": {},
   "outputs": [
    {
     "name": "stdout",
     "output_type": "stream",
     "text": [
      "(?, 30, 40, 10) (?, 64, 84, 10)\n"
     ]
    }
   ],
   "source": [
    "print(l1.shape, l2.shape)"
   ]
  },
  {
   "cell_type": "code",
   "execution_count": null,
   "metadata": {},
   "outputs": [],
   "source": [
    "def eval_cost(cost_op, X, y, batch_sz):\n",
    "    total_cost = 0\n",
    "    nb_batches = 0\n",
    "    for batch_X,batch_y in get_next_batch(batch_size,X,y):\n",
    "        feed_dict={img_placeholder: batch_X, labels: batch_y}\n",
    "        total_cost += cost.eval(feed_dict=feed_dict)\n",
    "        nb_batches += 1\n",
    "    return total_cost / nb_batches\n",
    "\n",
    "def eval_accuracy(output_op, X, y, batch_sz):\n",
    "    nb_batches = 0\n",
    "    total_acc = 0\n",
    "    for batch_X, batch_y in get_next_batch(batch_sz,X,y):\n",
    "        feed_dict={img_placeholder: batch_X, labels: batch_y}\n",
    "        y_predicted = np.argmax(output.eval(feed_dict=feed_dict),1)\n",
    "        total_acc += accuracy_score(batch_y,y_predicted)\n",
    "        nb_batches += 1\n",
    "    return 100*total_acc/nb_batches"
   ]
  },
  {
   "cell_type": "code",
   "execution_count": null,
   "metadata": {
    "scrolled": true
   },
   "outputs": [],
   "source": [
    "from sklearn.metrics import accuracy_score\n",
    "from tqdm import tqdm\n",
    "\n",
    "epochs = 75\n",
    "batch_size = 512\n",
    "learning_rate = 0.001\n",
    "batches_per_epoch = int(X_train.shape[0]/batch_size)\n",
    "n_train = int(len(y_train)*0.8)\n",
    "\n",
    "\n",
    "\n",
    "# Launch the graph\n",
    "with tf.Session() as sess:\n",
    "    summary_writer = tf.summary.FileWriter('./',sess.graph)\n",
    "    \n",
    "    sess.run(tf.global_variables_initializer())\n",
    "    \n",
    "    for epoch in tqdm(range(epochs)):\n",
    "        # Shuffle data for cross validation\n",
    "        indices = np.array(range(len(y_train)))\n",
    "        np.random.shuffle(indices)\n",
    "        \n",
    "        train_indices = indices[: n_train]\n",
    "        val_indices = indices[n_train:]\n",
    "        \n",
    "\n",
    "        \n",
    "        y_train_fold, X_train_fold, y_val_fold, X_val_fold = y_train[train_indices], X_train[train_indices, :], \\\n",
    "        y_train[val_indices], X_train[val_indices, :]\n",
    "        \n",
    "        # Loop over all training batches\n",
    "        for x, y in get_next_batch(batch_size, X_train_fold, y_train_fold):\n",
    "            sess.run(optimizer, \n",
    "                     feed_dict={img_placeholder:x, labels:y, learning_rate_ph:learning_rate})\n",
    "        \n",
    "        if (epoch+1) % 5 == 0:\n",
    "            training_cost = eval_cost(cost, X_train_fold, y_train_fold, batch_size)\n",
    "            training_acc  = eval_accuracy(output, X_train_fold, y_train_fold, batch_size)\n",
    "            valid_acc  = eval_accuracy(output, X_val_fold, y_val_fold, batch_size)\n",
    "            test_acc  = eval_accuracy(output, X_test, y_test, batch_size)\n",
    "            #print(training_cost, training_acc, valid_acc, test_acc)\n",
    "            \n",
    "            summary = tf.Summary()\n",
    "            summary.value.add(tag=\"Train Cost\", simple_value=training_cost)\n",
    "            summary.value.add(tag=\"Train Accuracy\", simple_value=training_acc)\n",
    "            summary.value.add(tag=\"Validation Accuracy\", simple_value=valid_acc)\n",
    "            summary.value.add(tag=\"Test Accuracy\", simple_value=test_acc)\n",
    "            summary_writer.add_summary(summary,epoch+1)\n",
    "            summary_writer.flush()\n",
    "\n",
    "    \n",
    "    print(\"Optimization Finished!\")\n",
    "    summary_writer.close()\n",
    "    # Save the graph structure only.\n",
    "    # Need to save weights in a checkpoint file separately.\n",
    "    # The graph structure is saved twice, once as a text file \n",
    "    # with extension '.pbtxt' and then as a binary file with \n",
    "    # extension '.pb'. This is done for demonstration only.\n",
    "    tf.train.write_graph(\n",
    "    tf.get_default_graph().as_graph_def(),\n",
    "    './checkpoints/',\n",
    "    'mnist.pbtxt',\n",
    "    as_text=True)\n",
    "    \n",
    "    tf.train.write_graph(\n",
    "    tf.get_default_graph().as_graph_def(),\n",
    "    './checkpoints/',\n",
    "    'mnist.pb',\n",
    "    as_text=False)\n",
    "    \n",
    "    saver = tf.train.Saver()\n",
    "    saver.save(sess,'./checkpoints/mnist.ckpt',epoch+1)"
   ]
  }
 ],
 "metadata": {
  "kernelspec": {
   "display_name": "Python 3",
   "language": "python",
   "name": "python3"
  },
  "language_info": {
   "codemirror_mode": {
    "name": "ipython",
    "version": 3
   },
   "file_extension": ".py",
   "mimetype": "text/x-python",
   "name": "python",
   "nbconvert_exporter": "python",
   "pygments_lexer": "ipython3",
   "version": "3.6.4"
  }
 },
 "nbformat": 4,
 "nbformat_minor": 2
}
