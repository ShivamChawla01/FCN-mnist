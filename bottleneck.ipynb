{
 "cells": [
  {
   "cell_type": "code",
   "execution_count": 1,
   "metadata": {},
   "outputs": [
    {
     "name": "stderr",
     "output_type": "stream",
     "text": [
      "/home/farhanhubble/anaconda3/envs/dl-tflow-src/lib/python3.6/site-packages/h5py/__init__.py:36: FutureWarning: Conversion of the second argument of issubdtype from `float` to `np.floating` is deprecated. In future, it will be treated as `np.float64 == np.dtype(float).type`.\n",
      "  from ._conv import register_converters as _register_converters\n"
     ]
    }
   ],
   "source": [
    "import tensorflow as tf\n",
    "import matplotlib.pyplot as plt\n",
    "import pandas as pd\n",
    "import numpy as np"
   ]
  },
  {
   "cell_type": "code",
   "execution_count": 2,
   "metadata": {},
   "outputs": [],
   "source": [
    "X = np.load('combined.npy') "
   ]
  },
  {
   "cell_type": "code",
   "execution_count": 3,
   "metadata": {},
   "outputs": [],
   "source": [
    "X = (X.astype(np.float32)-127)/127.0"
   ]
  },
  {
   "cell_type": "code",
   "execution_count": 4,
   "metadata": {},
   "outputs": [],
   "source": [
    "from tensorflow.core.framework import graph_pb2"
   ]
  },
  {
   "cell_type": "code",
   "execution_count": 5,
   "metadata": {},
   "outputs": [],
   "source": [
    "graph_def = graph_pb2.GraphDef()"
   ]
  },
  {
   "cell_type": "code",
   "execution_count": 6,
   "metadata": {},
   "outputs": [],
   "source": [
    "def load_graph():\n",
    "    with open('./checkpoints/frozen_graph.pb', \"rb\") as f:\n",
    "        graph_def.ParseFromString(f.read())\n",
    "        with tf.Graph().as_default() as graph:\n",
    "            input_big = tf.placeholder(dtype=tf.float32, shape=(None, 64,84,1), name='input_image_big')\n",
    "            tf.import_graph_def(graph_def, name=\"\", input_map={\"reshaped_image\": input_big})\n",
    "            return graph"
   ]
  },
  {
   "cell_type": "code",
   "execution_count": 7,
   "metadata": {},
   "outputs": [],
   "source": [
    "frozen_graph = load_graph()"
   ]
  },
  {
   "cell_type": "code",
   "execution_count": 8,
   "metadata": {},
   "outputs": [
    {
     "name": "stdout",
     "output_type": "stream",
     "text": [
      "input_image_big\n",
      "input_image\n",
      "reshaped_image/shape\n",
      "reshaped_image\n",
      "conv1/kernel\n",
      "conv1/kernel/read\n",
      "conv1/bias\n",
      "conv1/bias/read\n",
      "conv1/Conv2D\n",
      "conv1/BiasAdd\n",
      "conv1/Relu\n",
      "pool1/MaxPool\n",
      "conv2/kernel\n",
      "conv2/kernel/read\n",
      "conv2/bias\n",
      "conv2/bias/read\n",
      "conv2/Conv2D\n",
      "conv2/BiasAdd\n",
      "conv2/Relu\n",
      "poool2/MaxPool\n",
      "flatten/Shape\n",
      "flatten/strided_slice/stack\n",
      "flatten/strided_slice/stack_1\n",
      "flatten/strided_slice/stack_2\n",
      "flatten/strided_slice\n",
      "flatten/Reshape/shape/1\n",
      "flatten/Reshape/shape\n",
      "flatten/Reshape\n",
      "dense32/kernel\n",
      "dense32/kernel/read\n",
      "dense32/bias\n",
      "dense32/bias/read\n",
      "dense32/MatMul\n",
      "dense32/BiasAdd\n",
      "dense32/Relu\n",
      "dense10/kernel\n",
      "dense10/kernel/read\n",
      "dense10/bias\n",
      "dense10/bias/read\n",
      "dense10/MatMul\n",
      "dense10/BiasAdd\n",
      "predictions\n"
     ]
    }
   ],
   "source": [
    "for op in frozen_graph.get_operations():\n",
    "    print(op.name)"
   ]
  },
  {
   "cell_type": "code",
   "execution_count": 13,
   "metadata": {},
   "outputs": [
    {
     "name": "stdout",
     "output_type": "stream",
     "text": [
      "(5, 14, 19, 8)\n"
     ]
    }
   ],
   "source": [
    "with tf.Session(graph=frozen_graph) as sess:\n",
    "    # Get placeholder and output tensors.\n",
    "    # Tensor names are derived from the operation that produced them\n",
    "    # We named operations while building the graph NOT tensors.\n",
    "    input_ph = tf.get_default_graph().get_tensor_by_name('input_image_big:0')\n",
    "    bottleneck_tensor = tf.get_default_graph().get_tensor_by_name('poool2/MaxPool:0')\n",
    "    \n",
    "    # Select 5 random images\n",
    "    indices = np.random.randint(0,len(X),[5])\n",
    "    X_batch = X[indices]\n",
    "    X_batch = np.expand_dims(X_batch,3)\n",
    "    \n",
    "    bottleneck_features = sess.run(bottleneck_tensor,feed_dict={input_ph:X_batch})\n",
    "    print(bottleneck_features.shape)\n"
   ]
  },
  {
   "cell_type": "code",
   "execution_count": null,
   "metadata": {},
   "outputs": [],
   "source": [
    "for i in range(len(X)):\n",
    "    plt.figure(figsize=(0.25,0.25))\n",
    "    plt.imshow(X[i].reshape([28,28]),cmap='gray')\n",
    "    plt.title('Predicted as {}'.format(y_predicted[i]))\n",
    "    plt.show()"
   ]
  },
  {
   "cell_type": "code",
   "execution_count": null,
   "metadata": {},
   "outputs": [],
   "source": []
  }
 ],
 "metadata": {
  "kernelspec": {
   "display_name": "Python 3",
   "language": "python",
   "name": "python3"
  },
  "language_info": {
   "codemirror_mode": {
    "name": "ipython",
    "version": 3
   },
   "file_extension": ".py",
   "mimetype": "text/x-python",
   "name": "python",
   "nbconvert_exporter": "python",
   "pygments_lexer": "ipython3",
   "version": "3.6.4"
  }
 },
 "nbformat": 4,
 "nbformat_minor": 2
}
