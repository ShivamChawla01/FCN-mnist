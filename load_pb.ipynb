{
 "cells": [
  {
   "cell_type": "code",
   "execution_count": 2,
   "metadata": {},
   "outputs": [],
   "source": [
    "import tensorflow as tf\n",
    "import matplotlib as plt\n",
    "import pandas as pd\n",
    "import numpy as np"
   ]
  },
  {
   "cell_type": "code",
   "execution_count": 3,
   "metadata": {},
   "outputs": [],
   "source": [
    "data = pd.read_csv('train.csv').as_matrix()"
   ]
  },
  {
   "cell_type": "code",
   "execution_count": 4,
   "metadata": {},
   "outputs": [],
   "source": [
    "from tensorflow.core.framework import graph_pb2"
   ]
  },
  {
   "cell_type": "code",
   "execution_count": 5,
   "metadata": {},
   "outputs": [],
   "source": [
    "graph_def = graph_pb2.GraphDef()"
   ]
  },
  {
   "cell_type": "code",
   "execution_count": 6,
   "metadata": {},
   "outputs": [],
   "source": [
    "def load_graph():\n",
    "    with open('./checkpoints/mnist.pb', \"rb\") as f:\n",
    "        graph_def.ParseFromString(f.read())\n",
    "        with tf.Graph().as_default() as graph:\n",
    "            tf.import_graph_def(graph_def, name=\"\")\n",
    "            return graph"
   ]
  },
  {
   "cell_type": "code",
   "execution_count": 16,
   "metadata": {},
   "outputs": [],
   "source": [
    "with tf.Session(graph=load_graph()) as sess:\n",
    "    # Get placeholder and output tensors.\n",
    "    # Tensor names are derived from the operation that produced them\n",
    "    # We named operations while building the graph NOT tensors.\n",
    "    saver = tf.train.Saver()\n",
    "    saver.restore()\n",
    "    input_ph = tf.get_default_graph().get_tensor_by_name('input_image:0')\n",
    "    labels_ph = tf.get_default_graph().get_tensor_by_name('labels:0')\n",
    "    learning_rate_ph = tf.get_default_graph().get_tensor_by_name('learning_rate:0')\n",
    "    output_prediction = tf.get_default_graph().get_tensor_by_name('predictions:0')\n",
    "    \n",
    "    # Select 5 random images\n",
    "    indices = np.random.randint(0,len(data),[5])\n",
    "    X = data[indices,1:]\n",
    "    y = data[indices,0].reshape([-1,1])\n",
    "    \n",
    "    #y_predicted = sess.run(output_prediction,feed_dict={input_ph:X, labels_ph:y, learning_rate_ph:1})\n",
    "    #print(y_predicted)\n"
   ]
  },
  {
   "cell_type": "code",
   "execution_count": null,
   "metadata": {},
   "outputs": [],
   "source": []
  }
 ],
 "metadata": {
  "kernelspec": {
   "display_name": "Python 3",
   "language": "python",
   "name": "python3"
  },
  "language_info": {
   "codemirror_mode": {
    "name": "ipython",
    "version": 3
   },
   "file_extension": ".py",
   "mimetype": "text/x-python",
   "name": "python",
   "nbconvert_exporter": "python",
   "pygments_lexer": "ipython3",
   "version": "3.6.4"
  }
 },
 "nbformat": 4,
 "nbformat_minor": 2
}
